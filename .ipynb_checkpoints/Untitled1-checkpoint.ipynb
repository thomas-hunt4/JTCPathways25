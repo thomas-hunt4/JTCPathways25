{
 "cells": [
  {
   "cell_type": "code",
   "execution_count": 1,
   "id": "1059c52e-5ec9-4720-a9e2-0083c78ca20d",
   "metadata": {},
   "outputs": [],
   "source": [
    "import pandas as pd\n",
    "import numpy as np"
   ]
  },
  {
   "cell_type": "code",
   "execution_count": 70,
   "id": "449d7df3-0d80-4555-a71f-a83039ce919f",
   "metadata": {},
   "outputs": [
    {
     "data": {
      "text/html": [
       "<div>\n",
       "<style scoped>\n",
       "    .dataframe tbody tr th:only-of-type {\n",
       "        vertical-align: middle;\n",
       "    }\n",
       "\n",
       "    .dataframe tbody tr th {\n",
       "        vertical-align: top;\n",
       "    }\n",
       "\n",
       "    .dataframe thead th {\n",
       "        text-align: right;\n",
       "    }\n",
       "</style>\n",
       "<table border=\"1\" class=\"dataframe\">\n",
       "  <thead>\n",
       "    <tr style=\"text-align: right;\">\n",
       "      <th></th>\n",
       "      <th>ID</th>\n",
       "      <th>Name</th>\n",
       "      <th>Sex</th>\n",
       "      <th>Age</th>\n",
       "      <th>Height</th>\n",
       "      <th>Weight</th>\n",
       "      <th>Team</th>\n",
       "      <th>NOC</th>\n",
       "      <th>Games</th>\n",
       "      <th>Year</th>\n",
       "      <th>Season</th>\n",
       "      <th>City</th>\n",
       "      <th>Sport</th>\n",
       "      <th>Event</th>\n",
       "      <th>Medal</th>\n",
       "    </tr>\n",
       "  </thead>\n",
       "  <tbody>\n",
       "    <tr>\n",
       "      <th>0</th>\n",
       "      <td>1</td>\n",
       "      <td>A Dijiang</td>\n",
       "      <td>M</td>\n",
       "      <td>24.0</td>\n",
       "      <td>180.0</td>\n",
       "      <td>80.0</td>\n",
       "      <td>China</td>\n",
       "      <td>CHN</td>\n",
       "      <td>1992 Summer</td>\n",
       "      <td>1992</td>\n",
       "      <td>Summer</td>\n",
       "      <td>Barcelona</td>\n",
       "      <td>Basketball</td>\n",
       "      <td>Basketball Men's Basketball</td>\n",
       "      <td>NaN</td>\n",
       "    </tr>\n",
       "    <tr>\n",
       "      <th>1</th>\n",
       "      <td>2</td>\n",
       "      <td>A Lamusi</td>\n",
       "      <td>M</td>\n",
       "      <td>23.0</td>\n",
       "      <td>170.0</td>\n",
       "      <td>60.0</td>\n",
       "      <td>China</td>\n",
       "      <td>CHN</td>\n",
       "      <td>2012 Summer</td>\n",
       "      <td>2012</td>\n",
       "      <td>Summer</td>\n",
       "      <td>London</td>\n",
       "      <td>Judo</td>\n",
       "      <td>Judo Men's Extra-Lightweight</td>\n",
       "      <td>NaN</td>\n",
       "    </tr>\n",
       "    <tr>\n",
       "      <th>2</th>\n",
       "      <td>3</td>\n",
       "      <td>Gunnar Nielsen Aaby</td>\n",
       "      <td>M</td>\n",
       "      <td>24.0</td>\n",
       "      <td>NaN</td>\n",
       "      <td>NaN</td>\n",
       "      <td>Denmark</td>\n",
       "      <td>DEN</td>\n",
       "      <td>1920 Summer</td>\n",
       "      <td>1920</td>\n",
       "      <td>Summer</td>\n",
       "      <td>Antwerpen</td>\n",
       "      <td>Football</td>\n",
       "      <td>Football Men's Football</td>\n",
       "      <td>NaN</td>\n",
       "    </tr>\n",
       "    <tr>\n",
       "      <th>3</th>\n",
       "      <td>4</td>\n",
       "      <td>Edgar Lindenau Aabye</td>\n",
       "      <td>M</td>\n",
       "      <td>34.0</td>\n",
       "      <td>NaN</td>\n",
       "      <td>NaN</td>\n",
       "      <td>Denmark/Sweden</td>\n",
       "      <td>DEN</td>\n",
       "      <td>1900 Summer</td>\n",
       "      <td>1900</td>\n",
       "      <td>Summer</td>\n",
       "      <td>Paris</td>\n",
       "      <td>Tug-Of-War</td>\n",
       "      <td>Tug-Of-War Men's Tug-Of-War</td>\n",
       "      <td>Gold</td>\n",
       "    </tr>\n",
       "    <tr>\n",
       "      <th>4</th>\n",
       "      <td>5</td>\n",
       "      <td>Christine Jacoba Aaftink</td>\n",
       "      <td>F</td>\n",
       "      <td>21.0</td>\n",
       "      <td>185.0</td>\n",
       "      <td>82.0</td>\n",
       "      <td>Netherlands</td>\n",
       "      <td>NED</td>\n",
       "      <td>1988 Winter</td>\n",
       "      <td>1988</td>\n",
       "      <td>Winter</td>\n",
       "      <td>Calgary</td>\n",
       "      <td>Speed Skating</td>\n",
       "      <td>Speed Skating Women's 500 metres</td>\n",
       "      <td>NaN</td>\n",
       "    </tr>\n",
       "    <tr>\n",
       "      <th>...</th>\n",
       "      <td>...</td>\n",
       "      <td>...</td>\n",
       "      <td>...</td>\n",
       "      <td>...</td>\n",
       "      <td>...</td>\n",
       "      <td>...</td>\n",
       "      <td>...</td>\n",
       "      <td>...</td>\n",
       "      <td>...</td>\n",
       "      <td>...</td>\n",
       "      <td>...</td>\n",
       "      <td>...</td>\n",
       "      <td>...</td>\n",
       "      <td>...</td>\n",
       "      <td>...</td>\n",
       "    </tr>\n",
       "    <tr>\n",
       "      <th>271111</th>\n",
       "      <td>135569</td>\n",
       "      <td>Andrzej ya</td>\n",
       "      <td>M</td>\n",
       "      <td>29.0</td>\n",
       "      <td>179.0</td>\n",
       "      <td>89.0</td>\n",
       "      <td>Poland-1</td>\n",
       "      <td>POL</td>\n",
       "      <td>1976 Winter</td>\n",
       "      <td>1976</td>\n",
       "      <td>Winter</td>\n",
       "      <td>Innsbruck</td>\n",
       "      <td>Luge</td>\n",
       "      <td>Luge Mixed (Men)'s Doubles</td>\n",
       "      <td>NaN</td>\n",
       "    </tr>\n",
       "    <tr>\n",
       "      <th>271112</th>\n",
       "      <td>135570</td>\n",
       "      <td>Piotr ya</td>\n",
       "      <td>M</td>\n",
       "      <td>27.0</td>\n",
       "      <td>176.0</td>\n",
       "      <td>59.0</td>\n",
       "      <td>Poland</td>\n",
       "      <td>POL</td>\n",
       "      <td>2014 Winter</td>\n",
       "      <td>2014</td>\n",
       "      <td>Winter</td>\n",
       "      <td>Sochi</td>\n",
       "      <td>Ski Jumping</td>\n",
       "      <td>Ski Jumping Men's Large Hill, Individual</td>\n",
       "      <td>NaN</td>\n",
       "    </tr>\n",
       "    <tr>\n",
       "      <th>271113</th>\n",
       "      <td>135570</td>\n",
       "      <td>Piotr ya</td>\n",
       "      <td>M</td>\n",
       "      <td>27.0</td>\n",
       "      <td>176.0</td>\n",
       "      <td>59.0</td>\n",
       "      <td>Poland</td>\n",
       "      <td>POL</td>\n",
       "      <td>2014 Winter</td>\n",
       "      <td>2014</td>\n",
       "      <td>Winter</td>\n",
       "      <td>Sochi</td>\n",
       "      <td>Ski Jumping</td>\n",
       "      <td>Ski Jumping Men's Large Hill, Team</td>\n",
       "      <td>NaN</td>\n",
       "    </tr>\n",
       "    <tr>\n",
       "      <th>271114</th>\n",
       "      <td>135571</td>\n",
       "      <td>Tomasz Ireneusz ya</td>\n",
       "      <td>M</td>\n",
       "      <td>30.0</td>\n",
       "      <td>185.0</td>\n",
       "      <td>96.0</td>\n",
       "      <td>Poland</td>\n",
       "      <td>POL</td>\n",
       "      <td>1998 Winter</td>\n",
       "      <td>1998</td>\n",
       "      <td>Winter</td>\n",
       "      <td>Nagano</td>\n",
       "      <td>Bobsleigh</td>\n",
       "      <td>Bobsleigh Men's Four</td>\n",
       "      <td>NaN</td>\n",
       "    </tr>\n",
       "    <tr>\n",
       "      <th>271115</th>\n",
       "      <td>135571</td>\n",
       "      <td>Tomasz Ireneusz ya</td>\n",
       "      <td>M</td>\n",
       "      <td>34.0</td>\n",
       "      <td>185.0</td>\n",
       "      <td>96.0</td>\n",
       "      <td>Poland</td>\n",
       "      <td>POL</td>\n",
       "      <td>2002 Winter</td>\n",
       "      <td>2002</td>\n",
       "      <td>Winter</td>\n",
       "      <td>Salt Lake City</td>\n",
       "      <td>Bobsleigh</td>\n",
       "      <td>Bobsleigh Men's Four</td>\n",
       "      <td>NaN</td>\n",
       "    </tr>\n",
       "  </tbody>\n",
       "</table>\n",
       "<p>271116 rows × 15 columns</p>\n",
       "</div>"
      ],
      "text/plain": [
       "            ID                      Name Sex   Age  Height  Weight  \\\n",
       "0            1                 A Dijiang   M  24.0   180.0    80.0   \n",
       "1            2                  A Lamusi   M  23.0   170.0    60.0   \n",
       "2            3       Gunnar Nielsen Aaby   M  24.0     NaN     NaN   \n",
       "3            4      Edgar Lindenau Aabye   M  34.0     NaN     NaN   \n",
       "4            5  Christine Jacoba Aaftink   F  21.0   185.0    82.0   \n",
       "...        ...                       ...  ..   ...     ...     ...   \n",
       "271111  135569                Andrzej ya   M  29.0   179.0    89.0   \n",
       "271112  135570                  Piotr ya   M  27.0   176.0    59.0   \n",
       "271113  135570                  Piotr ya   M  27.0   176.0    59.0   \n",
       "271114  135571        Tomasz Ireneusz ya   M  30.0   185.0    96.0   \n",
       "271115  135571        Tomasz Ireneusz ya   M  34.0   185.0    96.0   \n",
       "\n",
       "                  Team  NOC        Games  Year  Season            City  \\\n",
       "0                China  CHN  1992 Summer  1992  Summer       Barcelona   \n",
       "1                China  CHN  2012 Summer  2012  Summer          London   \n",
       "2              Denmark  DEN  1920 Summer  1920  Summer       Antwerpen   \n",
       "3       Denmark/Sweden  DEN  1900 Summer  1900  Summer           Paris   \n",
       "4          Netherlands  NED  1988 Winter  1988  Winter         Calgary   \n",
       "...                ...  ...          ...   ...     ...             ...   \n",
       "271111        Poland-1  POL  1976 Winter  1976  Winter       Innsbruck   \n",
       "271112          Poland  POL  2014 Winter  2014  Winter           Sochi   \n",
       "271113          Poland  POL  2014 Winter  2014  Winter           Sochi   \n",
       "271114          Poland  POL  1998 Winter  1998  Winter          Nagano   \n",
       "271115          Poland  POL  2002 Winter  2002  Winter  Salt Lake City   \n",
       "\n",
       "                Sport                                     Event Medal  \n",
       "0          Basketball               Basketball Men's Basketball   NaN  \n",
       "1                Judo              Judo Men's Extra-Lightweight   NaN  \n",
       "2            Football                   Football Men's Football   NaN  \n",
       "3          Tug-Of-War               Tug-Of-War Men's Tug-Of-War  Gold  \n",
       "4       Speed Skating          Speed Skating Women's 500 metres   NaN  \n",
       "...               ...                                       ...   ...  \n",
       "271111           Luge                Luge Mixed (Men)'s Doubles   NaN  \n",
       "271112    Ski Jumping  Ski Jumping Men's Large Hill, Individual   NaN  \n",
       "271113    Ski Jumping        Ski Jumping Men's Large Hill, Team   NaN  \n",
       "271114      Bobsleigh                      Bobsleigh Men's Four   NaN  \n",
       "271115      Bobsleigh                      Bobsleigh Men's Four   NaN  \n",
       "\n",
       "[271116 rows x 15 columns]"
      ]
     },
     "execution_count": 70,
     "metadata": {},
     "output_type": "execute_result"
    }
   ],
   "source": [
    "olympics_file = pd.read_csv('./olympics.csv')\n",
    "df = pd.DataFrame(olympics_file)\n",
    "df"
   ]
  },
  {
   "cell_type": "code",
   "execution_count": 8,
   "id": "cd860752-012d-4df2-bae9-22ec57063b0a",
   "metadata": {},
   "outputs": [
    {
     "data": {
      "text/plain": [
       "134732"
      ]
     },
     "execution_count": 8,
     "metadata": {},
     "output_type": "execute_result"
    }
   ],
   "source": [
    "df['Name'].nunique()"
   ]
  },
  {
   "cell_type": "code",
   "execution_count": 9,
   "id": "eb0fd248-c122-4121-9269-5e738ce960dc",
   "metadata": {},
   "outputs": [
    {
     "data": {
      "text/plain": [
       "Sex\n",
       "M    196594\n",
       "F     74522\n",
       "Name: count, dtype: int64"
      ]
     },
     "execution_count": 9,
     "metadata": {},
     "output_type": "execute_result"
    }
   ],
   "source": [
    "df['Sex'].value_counts()"
   ]
  },
  {
   "cell_type": "code",
   "execution_count": 10,
   "id": "840406d0-358b-463d-af11-559ab688be2c",
   "metadata": {},
   "outputs": [
    {
     "data": {
      "text/plain": [
       "np.float64(25.556898357297374)"
      ]
     },
     "execution_count": 10,
     "metadata": {},
     "output_type": "execute_result"
    }
   ],
   "source": [
    "df['Age'].mean()"
   ]
  },
  {
   "cell_type": "code",
   "execution_count": 13,
   "id": "bc0600b9-cf1c-4a64-a6d8-c45dfff2f7d1",
   "metadata": {},
   "outputs": [
    {
     "data": {
      "text/plain": [
       "Name      zzet nce\n",
       "Height       226.0\n",
       "dtype: object"
      ]
     },
     "execution_count": 13,
     "metadata": {},
     "output_type": "execute_result"
    }
   ],
   "source": [
    "df[['Name','Height']].max()"
   ]
  },
  {
   "cell_type": "code",
   "execution_count": 23,
   "id": "4bdc0584-7d96-42b6-b97f-a4761f477a76",
   "metadata": {},
   "outputs": [
    {
     "name": "stdout",
     "output_type": "stream",
     "text": [
      "Height               223.0\n",
      "Name      ystein Pettersen\n",
      "dtype: object\n"
     ]
    }
   ],
   "source": [
    "medalist = df[df['Medal'].notnull()]\n",
    "highestHonors = medalist[['Height', 'Name']].max()\n",
    "print(highestHonors)"
   ]
  },
  {
   "cell_type": "code",
   "execution_count": 25,
   "id": "47f925d8-3052-4c6b-b326-ea35334ce79d",
   "metadata": {},
   "outputs": [
    {
     "data": {
      "text/plain": [
       "Height                                        127.0\n",
       "Name        Gabrielle Marie \"Gabby\" Adcock (White-)\n",
       "dtype: object"
      ]
     },
     "execution_count": 25,
     "metadata": {},
     "output_type": "execute_result"
    }
   ],
   "source": [
    "df[['Height', 'Name']].min()"
   ]
  },
  {
   "cell_type": "code",
   "execution_count": 26,
   "id": "1c00ba5f-784e-4a8c-b9e9-5c439aa1e67d",
   "metadata": {},
   "outputs": [
    {
     "data": {
      "text/plain": [
       "66"
      ]
     },
     "execution_count": 26,
     "metadata": {},
     "output_type": "execute_result"
    }
   ],
   "source": [
    "df['Sport'].nunique()"
   ]
  },
  {
   "cell_type": "code",
   "execution_count": 30,
   "id": "622f893a-1f05-4121-8ce0-62cbdee3c57f",
   "metadata": {},
   "outputs": [
    {
     "data": {
      "text/plain": [
       "Season  Event                                              \n",
       "Summer  Football Men's Football                                5733\n",
       "Winter  Ice Hockey Men's Ice Hockey                            4702\n",
       "Summer  Hockey Men's Hockey                                    3958\n",
       "        Water Polo Men's Water Polo                            3358\n",
       "        Basketball Men's Basketball                            3280\n",
       "                                                               ... \n",
       "        Archery Men's Target Archery, 50 metres, Individual       2\n",
       "        Croquet Mixed Doubles                                     2\n",
       "        Basque Pelota Men's Two-Man Teams With Cesta              2\n",
       "        Archery Men's Target Archery, 28 metres, Individual       2\n",
       "        Aeronautics Mixed Aeronautics                             1\n",
       "Name: count, Length: 770, dtype: int64"
      ]
     },
     "execution_count": 30,
     "metadata": {},
     "output_type": "execute_result"
    }
   ],
   "source": [
    "df[['Season', 'Event']].value_counts()"
   ]
  },
  {
   "cell_type": "code",
   "execution_count": 51,
   "id": "d5f44b72-435e-4cb3-a484-79ddd39273cb",
   "metadata": {},
   "outputs": [
    {
     "data": {
      "text/plain": [
       "Index(['Tacos Consumed', 'ID', 'Name', 'Sex', 'Age', 'Height', 'Weight',\n",
       "       'Team', 'NOC', 'Games', 'Year', 'Season', 'City', 'Sport', 'Event',\n",
       "       'Medal'],\n",
       "      dtype='object')"
      ]
     },
     "execution_count": 51,
     "metadata": {},
     "output_type": "execute_result"
    }
   ],
   "source": [
    "df.columns"
   ]
  },
  {
   "cell_type": "code",
   "execution_count": 52,
   "id": "3364adbe-a23b-43af-8603-b41b52de59d3",
   "metadata": {},
   "outputs": [
    {
     "data": {
      "text/plain": [
       "Medal\n",
       "Gold      13372\n",
       "Bronze    13295\n",
       "Silver    13116\n",
       "Name: count, dtype: int64"
      ]
     },
     "execution_count": 52,
     "metadata": {},
     "output_type": "execute_result"
    }
   ],
   "source": [
    "df['Medal'].value_counts()"
   ]
  },
  {
   "cell_type": "code",
   "execution_count": 57,
   "id": "9514541a-7022-4904-a0c2-bff880ba1898",
   "metadata": {},
   "outputs": [
    {
     "data": {
      "text/plain": [
       "10413"
      ]
     },
     "execution_count": 57,
     "metadata": {},
     "output_type": "execute_result"
    }
   ],
   "source": [
    "df[df['Medal'] == 'Gold']['Name'].nunique()"
   ]
  },
  {
   "cell_type": "code",
   "execution_count": 60,
   "id": "d9563845-f4bc-4bf3-8431-a35cc84c3b62",
   "metadata": {},
   "outputs": [
    {
     "data": {
      "text/plain": [
       "np.float64(3.49444518213606)"
      ]
     },
     "execution_count": 60,
     "metadata": {},
     "output_type": "execute_result"
    }
   ],
   "source": [
    "df['Age'].isna().mean() * 100"
   ]
  },
  {
   "cell_type": "code",
   "execution_count": 61,
   "id": "f1c17127-520e-464d-978b-67f5897135ec",
   "metadata": {},
   "outputs": [
    {
     "data": {
      "text/plain": [
       "Index(['Tacos Consumed', 'ID', 'Name', 'Sex', 'Age', 'Height', 'Weight',\n",
       "       'Team', 'NOC', 'Games', 'Year', 'Season', 'City', 'Sport', 'Event',\n",
       "       'Medal'],\n",
       "      dtype='object')"
      ]
     },
     "execution_count": 61,
     "metadata": {},
     "output_type": "execute_result"
    }
   ],
   "source": [
    "df.columns"
   ]
  },
  {
   "cell_type": "code",
   "execution_count": 62,
   "id": "f28de2fb-b9c8-4f46-9463-560950ecbc17",
   "metadata": {},
   "outputs": [],
   "source": [
    "df['Category'] = 'Standard'"
   ]
  },
  {
   "cell_type": "code",
   "execution_count": 63,
   "id": "1e65e558-546e-43b0-8614-ad3c7530310d",
   "metadata": {},
   "outputs": [
    {
     "data": {
      "text/plain": [
       "Index(['Tacos Consumed', 'ID', 'Name', 'Sex', 'Age', 'Height', 'Weight',\n",
       "       'Team', 'NOC', 'Games', 'Year', 'Season', 'City', 'Sport', 'Event',\n",
       "       'Medal', 'Category'],\n",
       "      dtype='object')"
      ]
     },
     "execution_count": 63,
     "metadata": {},
     "output_type": "execute_result"
    }
   ],
   "source": [
    "df.columns"
   ]
  },
  {
   "cell_type": "code",
   "execution_count": 69,
   "id": "9217bd63-78b4-4235-b47d-6e82a833c3ab",
   "metadata": {},
   "outputs": [],
   "source": [
    "df['BMI'] = df['Weight'] / df['Height'] / 100"
   ]
  },
  {
   "cell_type": "code",
   "execution_count": 67,
   "id": "4f26a723-828b-4e40-b94f-dc04b6911f18",
   "metadata": {},
   "outputs": [
    {
     "data": {
      "text/plain": [
       "Index(['Tacos Consumed', 'ID', 'Name', 'Sex', 'Age', 'Height', 'Weight',\n",
       "       'Team', 'NOC', 'Games', 'Year', 'Season', 'City', 'Sport', 'Event',\n",
       "       'Medal', 'Category', 'BMI'],\n",
       "      dtype='object')"
      ]
     },
     "execution_count": 67,
     "metadata": {},
     "output_type": "execute_result"
    }
   ],
   "source": [
    "df.columns"
   ]
  },
  {
   "cell_type": "code",
   "execution_count": 73,
   "id": "b9fd7d59-4881-45b1-adf1-21df9e47fa1b",
   "metadata": {},
   "outputs": [
    {
     "name": "stdout",
     "output_type": "stream",
     "text": [
      "BMI: 0         0.0\n",
      "1         0.0\n",
      "2         NaN\n",
      "3         NaN\n",
      "4         0.0\n",
      "         ... \n",
      "271111    0.0\n",
      "271112    0.0\n",
      "271113    0.0\n",
      "271114    0.0\n",
      "271115    0.0\n",
      "Length: 271116, dtype: float64\n"
     ]
    }
   ],
   "source": [
    "wt = df['Weight']\n",
    "ht = df['Height']\n",
    "BMI = wt / (ht **2)\n",
    "print('BMI:', round(BMI, 2))"
   ]
  },
  {
   "cell_type": "code",
   "execution_count": 77,
   "id": "15966d74-3351-4eb2-ac54-f14bfc3dcc24",
   "metadata": {},
   "outputs": [
    {
     "ename": "KeyError",
     "evalue": "'BMI'",
     "output_type": "error",
     "traceback": [
      "\u001b[31m---------------------------------------------------------------------------\u001b[39m",
      "\u001b[31mKeyError\u001b[39m                                  Traceback (most recent call last)",
      "\u001b[36mFile \u001b[39m\u001b[32mC:\\code\\JTCPathways25\\weather\\Lib\\site-packages\\pandas\\core\\indexes\\base.py:3805\u001b[39m, in \u001b[36mIndex.get_loc\u001b[39m\u001b[34m(self, key)\u001b[39m\n\u001b[32m   3804\u001b[39m \u001b[38;5;28;01mtry\u001b[39;00m:\n\u001b[32m-> \u001b[39m\u001b[32m3805\u001b[39m     \u001b[38;5;28;01mreturn\u001b[39;00m \u001b[38;5;28;43mself\u001b[39;49m\u001b[43m.\u001b[49m\u001b[43m_engine\u001b[49m\u001b[43m.\u001b[49m\u001b[43mget_loc\u001b[49m\u001b[43m(\u001b[49m\u001b[43mcasted_key\u001b[49m\u001b[43m)\u001b[49m\n\u001b[32m   3806\u001b[39m \u001b[38;5;28;01mexcept\u001b[39;00m \u001b[38;5;167;01mKeyError\u001b[39;00m \u001b[38;5;28;01mas\u001b[39;00m err:\n",
      "\u001b[36mFile \u001b[39m\u001b[32mindex.pyx:167\u001b[39m, in \u001b[36mpandas._libs.index.IndexEngine.get_loc\u001b[39m\u001b[34m()\u001b[39m\n",
      "\u001b[36mFile \u001b[39m\u001b[32mindex.pyx:196\u001b[39m, in \u001b[36mpandas._libs.index.IndexEngine.get_loc\u001b[39m\u001b[34m()\u001b[39m\n",
      "\u001b[36mFile \u001b[39m\u001b[32mpandas\\\\_libs\\\\hashtable_class_helper.pxi:7081\u001b[39m, in \u001b[36mpandas._libs.hashtable.PyObjectHashTable.get_item\u001b[39m\u001b[34m()\u001b[39m\n",
      "\u001b[36mFile \u001b[39m\u001b[32mpandas\\\\_libs\\\\hashtable_class_helper.pxi:7089\u001b[39m, in \u001b[36mpandas._libs.hashtable.PyObjectHashTable.get_item\u001b[39m\u001b[34m()\u001b[39m\n",
      "\u001b[31mKeyError\u001b[39m: 'BMI'",
      "\nThe above exception was the direct cause of the following exception:\n",
      "\u001b[31mKeyError\u001b[39m                                  Traceback (most recent call last)",
      "\u001b[36mCell\u001b[39m\u001b[36m \u001b[39m\u001b[32mIn[77]\u001b[39m\u001b[32m, line 1\u001b[39m\n\u001b[32m----> \u001b[39m\u001b[32m1\u001b[39m \u001b[43mdf\u001b[49m\u001b[43m[\u001b[49m\u001b[33;43m'\u001b[39;49m\u001b[33;43mBMI\u001b[39;49m\u001b[33;43m'\u001b[39;49m\u001b[43m]\u001b[49m.mean()\n",
      "\u001b[36mFile \u001b[39m\u001b[32mC:\\code\\JTCPathways25\\weather\\Lib\\site-packages\\pandas\\core\\frame.py:4102\u001b[39m, in \u001b[36mDataFrame.__getitem__\u001b[39m\u001b[34m(self, key)\u001b[39m\n\u001b[32m   4100\u001b[39m \u001b[38;5;28;01mif\u001b[39;00m \u001b[38;5;28mself\u001b[39m.columns.nlevels > \u001b[32m1\u001b[39m:\n\u001b[32m   4101\u001b[39m     \u001b[38;5;28;01mreturn\u001b[39;00m \u001b[38;5;28mself\u001b[39m._getitem_multilevel(key)\n\u001b[32m-> \u001b[39m\u001b[32m4102\u001b[39m indexer = \u001b[38;5;28;43mself\u001b[39;49m\u001b[43m.\u001b[49m\u001b[43mcolumns\u001b[49m\u001b[43m.\u001b[49m\u001b[43mget_loc\u001b[49m\u001b[43m(\u001b[49m\u001b[43mkey\u001b[49m\u001b[43m)\u001b[49m\n\u001b[32m   4103\u001b[39m \u001b[38;5;28;01mif\u001b[39;00m is_integer(indexer):\n\u001b[32m   4104\u001b[39m     indexer = [indexer]\n",
      "\u001b[36mFile \u001b[39m\u001b[32mC:\\code\\JTCPathways25\\weather\\Lib\\site-packages\\pandas\\core\\indexes\\base.py:3812\u001b[39m, in \u001b[36mIndex.get_loc\u001b[39m\u001b[34m(self, key)\u001b[39m\n\u001b[32m   3807\u001b[39m     \u001b[38;5;28;01mif\u001b[39;00m \u001b[38;5;28misinstance\u001b[39m(casted_key, \u001b[38;5;28mslice\u001b[39m) \u001b[38;5;129;01mor\u001b[39;00m (\n\u001b[32m   3808\u001b[39m         \u001b[38;5;28misinstance\u001b[39m(casted_key, abc.Iterable)\n\u001b[32m   3809\u001b[39m         \u001b[38;5;129;01mand\u001b[39;00m \u001b[38;5;28many\u001b[39m(\u001b[38;5;28misinstance\u001b[39m(x, \u001b[38;5;28mslice\u001b[39m) \u001b[38;5;28;01mfor\u001b[39;00m x \u001b[38;5;129;01min\u001b[39;00m casted_key)\n\u001b[32m   3810\u001b[39m     ):\n\u001b[32m   3811\u001b[39m         \u001b[38;5;28;01mraise\u001b[39;00m InvalidIndexError(key)\n\u001b[32m-> \u001b[39m\u001b[32m3812\u001b[39m     \u001b[38;5;28;01mraise\u001b[39;00m \u001b[38;5;167;01mKeyError\u001b[39;00m(key) \u001b[38;5;28;01mfrom\u001b[39;00m\u001b[38;5;250m \u001b[39m\u001b[34;01merr\u001b[39;00m\n\u001b[32m   3813\u001b[39m \u001b[38;5;28;01mexcept\u001b[39;00m \u001b[38;5;167;01mTypeError\u001b[39;00m:\n\u001b[32m   3814\u001b[39m     \u001b[38;5;66;03m# If we have a listlike key, _check_indexing_error will raise\u001b[39;00m\n\u001b[32m   3815\u001b[39m     \u001b[38;5;66;03m#  InvalidIndexError. Otherwise we fall through and re-raise\u001b[39;00m\n\u001b[32m   3816\u001b[39m     \u001b[38;5;66;03m#  the TypeError.\u001b[39;00m\n\u001b[32m   3817\u001b[39m     \u001b[38;5;28mself\u001b[39m._check_indexing_error(key)\n",
      "\u001b[31mKeyError\u001b[39m: 'BMI'"
     ]
    }
   ],
   "source": [
    "df['BMI'].mean()"
   ]
  },
  {
   "cell_type": "code",
   "execution_count": null,
   "id": "0f44bdce-8e85-47f7-99d5-1ff7d8aec2ab",
   "metadata": {},
   "outputs": [],
   "source": []
  }
 ],
 "metadata": {
  "kernelspec": {
   "display_name": "Python 3 (ipykernel)",
   "language": "python",
   "name": "python3"
  },
  "language_info": {
   "codemirror_mode": {
    "name": "ipython",
    "version": 3
   },
   "file_extension": ".py",
   "mimetype": "text/x-python",
   "name": "python",
   "nbconvert_exporter": "python",
   "pygments_lexer": "ipython3",
   "version": "3.13.3"
  }
 },
 "nbformat": 4,
 "nbformat_minor": 5
}
